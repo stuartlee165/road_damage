{
 "cells": [
  {
   "cell_type": "markdown",
   "id": "9a26e866",
   "metadata": {
    "gradient": {
     "editing": false,
     "id": "9a26e866",
     "kernelId": "21d089f9-9780-451b-8e7c-d3adb046dd47"
    }
   },
   "source": [
    "#### Import Packages"
   ]
  },
  {
   "cell_type": "code",
   "execution_count": 1,
   "id": "6cd06c9f",
   "metadata": {
    "ExecuteTime": {
     "end_time": "2022-03-07T18:12:50.742071Z",
     "start_time": "2022-03-07T18:12:38.753883Z"
    },
    "gradient": {
     "editing": false,
     "execution_count": 1,
     "id": "6cd06c9f",
     "kernelId": "21d089f9-9780-451b-8e7c-d3adb046dd47"
    }
   },
   "outputs": [],
   "source": [
    "# Import packages\n",
    "!pip install -Uqq fastbook\n",
    "import fastbook\n",
    "fastbook.setup_book()\n",
    "\n",
    "from fastbook import *\n",
    "from fastai.vision.widgets import *\n",
    "\n",
    "# imagescraper module allows to search for images on duckduckgo\n",
    "!pip install -q jmd_imagescraper\n",
    "from jmd_imagescraper.core import * \n",
    "from jmd_imagescraper.imagecleaner import * # use to clean images\n",
    "\n",
    "# fastai library doesn't just return a string containing the path to the dataset, but a Path object. \n",
    "# is a useful class from the Python 3 standard library that makes accessing files and directories much easier.\n",
    "from pathlib import Path"
   ]
  },
  {
   "cell_type": "markdown",
   "id": "dbcb97d7",
   "metadata": {
    "gradient": {
     "editing": false,
     "id": "dbcb97d7",
     "kernelId": "21d089f9-9780-451b-8e7c-d3adb046dd47"
    }
   },
   "source": [
    "#### Data Collection"
   ]
  },
  {
   "cell_type": "code",
   "execution_count": 2,
   "id": "4669a1f0",
   "metadata": {
    "ExecuteTime": {
     "end_time": "2022-03-07T18:13:41.933972Z",
     "start_time": "2022-03-07T18:12:50.765566Z"
    },
    "gradient": {
     "editing": false,
     "execution_count": 4,
     "id": "4669a1f0",
     "kernelId": "21d089f9-9780-451b-8e7c-d3adb046dd47"
    },
    "scrolled": true
   },
   "outputs": [
    {
     "name": "stdout",
     "output_type": "stream",
     "text": [
      "Duckduckgo search: road damage\n",
      "Downloading results into road damage\n"
     ]
    },
    {
     "data": {
      "text/html": [
       "\n",
       "<style>\n",
       "    /* Turns off some styling */\n",
       "    progress {\n",
       "        /* gets rid of default border in Firefox and Opera. */\n",
       "        border: none;\n",
       "        /* Needs to be in here for Safari polyfill so background images work as expected. */\n",
       "        background-size: auto;\n",
       "    }\n",
       "    .progress-bar-interrupted, .progress-bar-interrupted::-webkit-progress-bar {\n",
       "        background: #F44336;\n",
       "    }\n",
       "</style>\n"
      ],
      "text/plain": [
       "<IPython.core.display.HTML object>"
      ]
     },
     "metadata": {},
     "output_type": "display_data"
    },
    {
     "data": {
      "text/html": [
       "\n",
       "    <div>\n",
       "      <progress value='300' class='' max='300' style='width:300px; height:20px; vertical-align: middle;'></progress>\n",
       "      100.00% [300/300 00:48<00:00 Images downloaded]\n",
       "    </div>\n",
       "    "
      ],
      "text/plain": [
       "<IPython.core.display.HTML object>"
      ]
     },
     "metadata": {},
     "output_type": "display_data"
    }
   ],
   "source": [
    "# directory to save images\n",
    "path = Path()\n",
    "\n",
    "# search parameters\n",
    "items = ['road damage']\n",
    "\n",
    "\n",
    "for img in items:\n",
    "    duckduckgo_search(path,img,img,max_results=300) \n",
    "\n",
    "# get_image_files function takes a path, and returns a list of all of the images in that path \n",
    "# (recursively, by default):\n",
    "# at this point images are not actually downloaded only the path to the images\n",
    "fns = get_image_files(path)"
   ]
  },
  {
   "cell_type": "code",
   "execution_count": 3,
   "id": "772e0087",
   "metadata": {
    "ExecuteTime": {
     "end_time": "2022-03-07T18:13:41.958322Z",
     "start_time": "2022-03-07T18:13:41.954863Z"
    },
    "gradient": {
     "editing": false,
     "execution_count": 6,
     "id": "81164a16",
     "kernelId": "21d089f9-9780-451b-8e7c-d3adb046dd47"
    }
   },
   "outputs": [
    {
     "data": {
      "text/plain": [
       "(#300) [Path('road damage/253_75da429b.jpg'),Path('road damage/299_0d044631.jpg'),Path('road damage/114_3464ceb2.jpg'),Path('road damage/061_401467c1.jpg'),Path('road damage/047_91ea4732.jpg'),Path('road damage/012_ab9a8e93.jpg'),Path('road damage/224_a864226e.jpg'),Path('road damage/159_8d1d1f66.jpg'),Path('road damage/242_54d9e2e0.jpg'),Path('road damage/189_670fb953.jpg')...]"
      ]
     },
     "execution_count": 3,
     "metadata": {},
     "output_type": "execute_result"
    }
   ],
   "source": [
    "fns"
   ]
  },
  {
   "cell_type": "code",
   "execution_count": 4,
   "id": "8aa91d9b",
   "metadata": {
    "ExecuteTime": {
     "end_time": "2022-03-07T18:13:42.387716Z",
     "start_time": "2022-03-07T18:13:41.980656Z"
    },
    "gradient": {
     "editing": false,
     "execution_count": 5,
     "id": "8d45c93e",
     "kernelId": "21d089f9-9780-451b-8e7c-d3adb046dd47"
    }
   },
   "outputs": [
    {
     "data": {
      "text/plain": [
       "(#0) []"
      ]
     },
     "execution_count": 4,
     "metadata": {},
     "output_type": "execute_result"
    }
   ],
   "source": [
    "# check for any corrupt images\n",
    "failed=verify_images(fns)\n",
    "\n",
    "# verify images has a map method which will run a function on each element in the class\n",
    "# unlink is part of standard python library and will remove each item from our fns class\n",
    "failed.map(Path.unlink)"
   ]
  },
  {
   "cell_type": "markdown",
   "id": "95092f68",
   "metadata": {},
   "source": [
    "#### Data Processing"
   ]
  },
  {
   "cell_type": "markdown",
   "id": "d87cd251",
   "metadata": {},
   "source": [
    "Steps completed so far:\n",
    "- downloaded images\n",
    "- labeled each image using labelme\n",
    "- which created a json file for each image with location of the labels\n",
    "\n",
    "Next steps:\n",
    "- create a annotations.json file which summarises in one file each of the json files for each image\n",
    "- using this annotations file create masks (png format) for each image"
   ]
  },
  {
   "cell_type": "code",
   "execution_count": 5,
   "id": "af3a2469",
   "metadata": {
    "ExecuteTime": {
     "end_time": "2022-03-07T20:14:12.653267Z",
     "start_time": "2022-03-07T20:14:11.945397Z"
    }
   },
   "outputs": [],
   "source": [
    "# import packages for coco\n",
    "import labelme2coco\n",
    "from labelme2coco import get_coco_from_labelme_folder, save_json"
   ]
  },
  {
   "cell_type": "code",
   "execution_count": 19,
   "id": "2b497dd7",
   "metadata": {
    "ExecuteTime": {
     "end_time": "2022-03-07T22:03:26.031712Z",
     "start_time": "2022-03-07T22:03:25.787813Z"
    }
   },
   "outputs": [
    {
     "name": "stderr",
     "output_type": "stream",
     "text": [
      "Converting labelme annotations to COCO format: 100%|██████████| 101/101 [00:00<00:00, 625.22it/s]"
     ]
    },
    {
     "name": "stdout",
     "output_type": "stream",
     "text": [
      "There are 101 listed files in folder images_labeled.\n"
     ]
    },
    {
     "name": "stderr",
     "output_type": "stream",
     "text": [
      "\n",
      "03/07/2022 22:03:26 - INFO - labelme2coco -   Training split in COCO format is exported to /Users/stuart/Desktop/Data_Projects/road_damage/notebooks/roaddamage2/images_labeled/train.json\n",
      "03/07/2022 22:03:26 - INFO - labelme2coco -   Validation split in COCO format is exported to /Users/stuart/Desktop/Data_Projects/road_damage/notebooks/roaddamage2/images_labeled/val.json\n",
      "Converting labelme annotations to COCO format: 0it [00:00, ?it/s]\n",
      "Converting labelme annotations to COCO format: 0it [00:00, ?it/s]"
     ]
    },
    {
     "name": "stdout",
     "output_type": "stream",
     "text": [
      "There are 0 listed files in folder train.\n",
      "There are 0 listed files in folder test.\n"
     ]
    },
    {
     "name": "stderr",
     "output_type": "stream",
     "text": [
      "\n"
     ]
    }
   ],
   "source": [
    "# set directory that contains labelme annotations and image files\n",
    "labelme_folder = \"/Users/stuart/Desktop/Data_Projects/road_damage/notebooks/roaddamage2/images_labeled\"\n",
    "\n",
    "# set export dir\n",
    "export_dir = \"/Users/stuart/Desktop/Data_Projects/road_damage/notebooks/roaddamage2/images_labeled\"\n",
    "\n",
    "# set train split rate\n",
    "train_split_rate = 0.95\n",
    "\n",
    "# convert labelme annotations to coco\n",
    "labelme2coco.convert(labelme_folder, export_dir, train_split_rate)\n",
    "# import functions\n",
    "\n",
    "# set labelme training data directory\n",
    "labelme_train_folder = \"/Users/stuart/Desktop/Data_Projects/road_damage/notebooks/roaddamage2/images_labeled/train\"\n",
    "\n",
    "# set labelme validation data directory\n",
    "labelme_val_folder = \"/Users/stuart/Desktop/Data_Projects/road_damage/notebooks/roaddamage2/images_labeled/test\"\n",
    "\n",
    "# set path for coco json to be saved\n",
    "export_dir = \"/Users/stuart/Desktop/Data_Projects/road_damage/notebooks/roaddamage2/images_labeled/coco\"\n",
    "\n",
    "# create train coco object\n",
    "train_coco = get_coco_from_labelme_folder(labelme_train_folder)\n",
    "\n",
    "# export train coco json\n",
    "save_json(train_coco.json, export_dir+\"train.json\")\n",
    "\n",
    "# create val coco object\n",
    "val_coco = get_coco_from_labelme_folder(labelme_val_folder, coco_category_list=train_coco.json_categories)\n",
    "\n",
    "# export val coco json\n",
    "save_json(val_coco.json, export_dir+\"val.json\")"
   ]
  },
  {
   "cell_type": "code",
   "execution_count": 16,
   "id": "4b7e2809",
   "metadata": {
    "ExecuteTime": {
     "end_time": "2022-03-07T21:48:14.784106Z",
     "start_time": "2022-03-07T21:48:09.665363Z"
    }
   },
   "outputs": [],
   "source": [
    "# pycocotools is a Python API that\n",
    "# assists in loading, parsing and visualizing the annotations in COCO.\n",
    "# Microsoft COCO is a large image dataset designed for object detection,\n",
    "# segmentation, and caption generation. \n",
    "\n",
    "from pycocotools.coco import COCO # COCO api class that loads COCO annotation file and prepare data structures.\n",
    "import cv2"
   ]
  },
  {
   "cell_type": "code",
   "execution_count": 27,
   "id": "d9d4e1de",
   "metadata": {
    "ExecuteTime": {
     "end_time": "2022-03-07T22:15:15.465826Z",
     "start_time": "2022-03-07T22:15:15.058674Z"
    },
    "scrolled": true
   },
   "outputs": [
    {
     "name": "stdout",
     "output_type": "stream",
     "text": [
      "loading annotations into memory...\n",
      "Done (t=0.00s)\n",
      "creating index...\n",
      "index created!\n",
      "Czech_000197.jpg\n",
      "Czech_000225.jpg\n",
      "Czech_000250.jpg\n",
      "Czech_000167.jpg\n",
      "Czech_000287.jpg\n",
      "Czech_000224.jpg\n",
      "Czech_000158.jpg\n",
      "Czech_000234.jpg\n",
      "Czech_000063.jpg\n",
      "Czech_000183.jpg\n",
      "Czech_000274.jpg\n",
      "Czech_000273.jpg\n",
      "Czech_000157.jpg\n",
      "Czech_000230.jpg\n",
      "Czech_000163.jpg\n",
      "Czech_000173.jpg\n",
      "Czech_000115.jpg\n",
      "Czech_000085.jpg\n",
      "Czech_000108.jpg\n",
      "Czech_000122.jpg\n",
      "Czech_000113.jpg\n",
      "Czech_000215.jpg\n",
      "Czech_000196.jpg\n",
      "Czech_000275.jpg\n",
      "Czech_000294.jpg\n",
      "Czech_000236.jpg\n",
      "Czech_000010.jpg\n",
      "Czech_000286.jpg\n",
      "Czech_000028.jpg\n",
      "Czech_000045.jpg\n",
      "Czech_000184.jpg\n",
      "Czech_000205.jpg\n",
      "Czech_000199.jpg\n",
      "Czech_000111.jpg\n",
      "Czech_000133.jpg\n",
      "Czech_000251.jpg\n",
      "Czech_000162.jpg\n",
      "Czech_000188.jpg\n",
      "Czech_000097.jpg\n",
      "Czech_000268.jpg\n",
      "Czech_000246.jpg\n",
      "Czech_000242.jpg\n",
      "Czech_000283.jpg\n",
      "Czech_000057.jpg\n",
      "Czech_000179.jpg\n",
      "Czech_000271.jpg\n",
      "Czech_000031.jpg\n",
      "Czech_000041.jpg\n",
      "Czech_000190.jpg\n",
      "Czech_000293.jpg\n",
      "Czech_000121.jpg\n",
      "Czech_000281.jpg\n",
      "Czech_000092.jpg\n",
      "Czech_000221.jpg\n",
      "Czech_000247.jpg\n",
      "Czech_000037.jpg\n",
      "Czech_000118.jpg\n",
      "Czech_000260.jpg\n",
      "Czech_000103.jpg\n",
      "Czech_000235.jpg\n",
      "Czech_000270.jpg\n",
      "Czech_000061.jpg\n",
      "Czech_000202.jpg\n",
      "Czech_000022.jpg\n",
      "Czech_000086.jpg\n",
      "Czech_000233.jpg\n",
      "Czech_000276.jpg\n",
      "Czech_000244.jpg\n",
      "Czech_000226.jpg\n",
      "Czech_000249.jpg\n",
      "Czech_000070.jpg\n",
      "Czech_000165.jpg\n",
      "Czech_000220.jpg\n",
      "Czech_000204.jpg\n",
      "Czech_000269.jpg\n",
      "Czech_000218.jpg\n",
      "Czech_000007.jpg\n",
      "Czech_000245.jpg\n",
      "Czech_000222.jpg\n",
      "Czech_000100.jpg\n",
      "Czech_000206.jpg\n",
      "Czech_000240.jpg\n",
      "Czech_000252.jpg\n",
      "Czech_000095.jpg\n",
      "Czech_000201.jpg\n",
      "Czech_000193.jpg\n",
      "Czech_000002.jpg\n",
      "Czech_000289.jpg\n",
      "Czech_000161.jpg\n",
      "Czech_000248.jpg\n",
      "Czech_000127.jpg\n",
      "Czech_000209.jpg\n",
      "Czech_000217.jpg\n",
      "Czech_000284.jpg\n",
      "Czech_000182.jpg\n"
     ]
    }
   ],
   "source": [
    "# Create masks for train data\n",
    "#state location of annotation files\n",
    "annotations = '/Users/stuart/Desktop/Data_Projects/road_damage/notebooks/roaddamage2/images_labeled/train.json'\n",
    "\n",
    "coco_anno=COCO(annotations)\n",
    "\n",
    "# Get cat ids that satisfy given filter conditions.\n",
    "catIDs = coco_anno.getCatIds()\n",
    "\n",
    "# Get img ids that satisfy given filter conditions\n",
    "imgIds = coco_anno.getImgIds(catIds=catIDs)\n",
    "\n",
    "\n",
    "for i in range(len(imgIds)):\n",
    "    img = coco_anno.loadImgs(imgIds[i])[0]\n",
    "    file_name = img['file_name'].split('.')[0]\n",
    "    print(img['file_name'])\n",
    "    annIds = coco_anno.getAnnIds(imgIds=img['id'], catIds=catIDs, iscrowd=None)\n",
    "    anns = coco_anno.loadAnns(annIds)\n",
    "    mask = np.zeros((img['height'],img['width']))\n",
    "    for i in range(len(anns)):\n",
    "        mask = np.maximum(coco_anno.annToMask(anns[i]), mask)\n",
    "    cv2.imwrite('/Users/stuart/Desktop/Data_Projects/road_damage/notebooks/roaddamage2/images_labeled/mask/train/'+file_name+\".png\", mask * 255)\n"
   ]
  },
  {
   "cell_type": "code",
   "execution_count": 28,
   "id": "06d0b3e6",
   "metadata": {
    "ExecuteTime": {
     "end_time": "2022-03-07T22:15:17.607604Z",
     "start_time": "2022-03-07T22:15:17.563492Z"
    }
   },
   "outputs": [
    {
     "name": "stdout",
     "output_type": "stream",
     "text": [
      "loading annotations into memory...\n",
      "Done (t=0.00s)\n",
      "creating index...\n",
      "index created!\n",
      "Czech_000159.jpg\n",
      "Czech_000253.jpg\n",
      "Czech_000279.jpg\n",
      "Czech_000255.jpg\n",
      "Czech_000261.jpg\n",
      "Czech_000017.jpg\n"
     ]
    }
   ],
   "source": [
    "# Create masks for test data\n",
    "#state location of annotation files\n",
    "annotations = '/Users/stuart/Desktop/Data_Projects/road_damage/notebooks/roaddamage2/images_labeled/val.json'\n",
    "\n",
    "coco_anno=COCO(annotations)\n",
    "\n",
    "# Get cat ids that satisfy given filter conditions.\n",
    "catIDs = coco_anno.getCatIds()\n",
    "\n",
    "# Get img ids that satisfy given filter conditions\n",
    "imgIds = coco_anno.getImgIds(catIds=catIDs)\n",
    "\n",
    "\n",
    "for i in range(len(imgIds)):\n",
    "    img = coco_anno.loadImgs(imgIds[i])[0]\n",
    "    file_name = img['file_name'].split('.')[0]\n",
    "    print(img['file_name'])\n",
    "    annIds = coco_anno.getAnnIds(imgIds=img['id'], catIds=catIDs, iscrowd=None)\n",
    "    anns = coco_anno.loadAnns(annIds)\n",
    "    mask = np.zeros((img['height'],img['width']))\n",
    "    for i in range(len(anns)):\n",
    "        mask = np.maximum(coco_anno.annToMask(anns[i]), mask)\n",
    "    cv2.imwrite('/Users/stuart/Desktop/Data_Projects/road_damage/notebooks/roaddamage2/images_labeled/mask/test/'+file_name+\".png\", mask * 255)\n"
   ]
  },
  {
   "cell_type": "code",
   "execution_count": null,
   "id": "9a3cb9e3",
   "metadata": {},
   "outputs": [],
   "source": []
  }
 ],
 "metadata": {
  "kernelspec": {
   "display_name": "Python 3",
   "language": "python",
   "name": "python3"
  },
  "language_info": {
   "codemirror_mode": {
    "name": "ipython",
    "version": 3
   },
   "file_extension": ".py",
   "mimetype": "text/x-python",
   "name": "python",
   "nbconvert_exporter": "python",
   "pygments_lexer": "ipython3",
   "version": "3.8.2"
  },
  "toc": {
   "base_numbering": 1,
   "nav_menu": {},
   "number_sections": true,
   "sideBar": true,
   "skip_h1_title": false,
   "title_cell": "Table of Contents",
   "title_sidebar": "Contents",
   "toc_cell": false,
   "toc_position": {},
   "toc_section_display": true,
   "toc_window_display": false
  },
  "varInspector": {
   "cols": {
    "lenName": 16,
    "lenType": 16,
    "lenVar": 40
   },
   "kernels_config": {
    "python": {
     "delete_cmd_postfix": "",
     "delete_cmd_prefix": "del ",
     "library": "var_list.py",
     "varRefreshCmd": "print(var_dic_list())"
    },
    "r": {
     "delete_cmd_postfix": ") ",
     "delete_cmd_prefix": "rm(",
     "library": "var_list.r",
     "varRefreshCmd": "cat(var_dic_list()) "
    }
   },
   "types_to_exclude": [
    "module",
    "function",
    "builtin_function_or_method",
    "instance",
    "_Feature"
   ],
   "window_display": false
  }
 },
 "nbformat": 4,
 "nbformat_minor": 5
}
